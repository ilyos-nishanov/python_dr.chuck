{
 "cells": [
  {
   "cell_type": "code",
   "execution_count": 1,
   "id": "8569b53b-ce96-41f2-8122-b3a99be22fb1",
   "metadata": {},
   "outputs": [],
   "source": [
    "# wire protocol\n",
    "# agree on a format\n",
    "# serialization\n",
    "# XML format\n",
    "# JSON format\n",
    "#APIs mostli communicate in JSON"
   ]
  },
  {
   "cell_type": "code",
   "execution_count": 2,
   "id": "42f8062c-a27a-4343-92f0-5b21fd3e2304",
   "metadata": {},
   "outputs": [],
   "source": [
    "# XML\n",
    "# extensible markup language\n",
    "# serialize, transport, decode\n",
    "#XML elements or nodes\n",
    "# element is the content of the tag\n",
    "# any attribute is also a child (weird)\n",
    "# as well as as a tree, you can look at XML as a path too"
   ]
  },
  {
   "cell_type": "code",
   "execution_count": 3,
   "id": "49ea7327-e582-42fa-aeb0-331fe4064852",
   "metadata": {},
   "outputs": [
    {
     "name": "stdout",
     "output_type": "stream",
     "text": [
      "Name: Chuck\n",
      "Attr: yes\n"
     ]
    }
   ],
   "source": [
    "#xml example\n",
    "import xml.etree.ElementTree as ET\n",
    "\n",
    "data = '''\n",
    "<person>\n",
    "  <name>Chuck</name>\n",
    "  <phone type=\"intl\">\n",
    "    +1 734 303 4456\n",
    "  </phone>\n",
    "  <email hide=\"yes\" />\n",
    "</person>'''\n",
    "\n",
    "tree = ET.fromstring(data)\n",
    "print('Name:', tree.find('name').text)   #find the tag <name>\n",
    "print('Attr:', tree.find('email').get('hide'))\n"
   ]
  },
  {
   "cell_type": "code",
   "execution_count": 4,
   "id": "c2a4b06c-46c9-444e-8706-23bff4ffa92a",
   "metadata": {},
   "outputs": [
    {
     "name": "stdout",
     "output_type": "stream",
     "text": [
      "User count: 2\n",
      "Name Chuck\n",
      "Id 001\n",
      "Attribute 2\n",
      "Name Brent\n",
      "Id 009\n",
      "Attribute 7\n"
     ]
    }
   ],
   "source": [
    "import xml.etree.ElementTree as ET\n",
    "\n",
    "input = '''\n",
    "<stuff>\n",
    "  <users>\n",
    "    <user x=\"2\">\n",
    "      <id>001</id>\n",
    "      <name>Chuck</name>\n",
    "    </user>\n",
    "    <user x=\"7\">\n",
    "      <id>009</id>\n",
    "      <name>Brent</name>\n",
    "    </user>\n",
    "  </users>\n",
    "</stuff>'''\n",
    "\n",
    "stuff = ET.fromstring(input)\n",
    "lst = stuff.findall('users/user') #returns a python list of the tags (not the text of the tag!)\n",
    "print('User count:', len(lst))\n",
    "\n",
    "for item in lst:\n",
    "    print('Name', item.find('name').text)\n",
    "    print('Id', item.find('id').text)\n",
    "    print('Attribute', item.get('x'))\n"
   ]
  },
  {
   "cell_type": "code",
   "execution_count": 5,
   "id": "8e9f2ad0-fa37-4abc-b3ec-770e4be8738b",
   "metadata": {},
   "outputs": [],
   "source": [
    "#XML validation checks the XML schema contract and checks if it's ok\n",
    "# many XML validation languages\n",
    "# XSD one of them"
   ]
  },
  {
   "cell_type": "markdown",
   "id": "e4d53a49-b2c5-4703-94e0-3c13d2f60778",
   "metadata": {},
   "source": [
    "### json"
   ]
  },
  {
   "cell_type": "code",
   "execution_count": 9,
   "id": "cf4e4ad9-33c6-473f-b243-552b41100aec",
   "metadata": {},
   "outputs": [],
   "source": [
    "# json.org\n",
    "# not an RFC"
   ]
  },
  {
   "cell_type": "code",
   "execution_count": 10,
   "id": "0fa84b7b-2f48-4d68-96a4-3aeb8c7ca30f",
   "metadata": {},
   "outputs": [
    {
     "name": "stdout",
     "output_type": "stream",
     "text": [
      "Name: Chuck\n",
      "Hide: yes\n"
     ]
    }
   ],
   "source": [
    "# example 1\n",
    "import json\n",
    "\n",
    "data = '''\n",
    "{\n",
    "  \"name\" : \"Chuck\",\n",
    "  \"phone\" : {\n",
    "    \"type\" : \"intl\",\n",
    "    \"number\" : \"+1 734 303 4456\"\n",
    "   },\n",
    "   \"email\" : {\n",
    "     \"hide\" : \"yes\"\n",
    "   }\n",
    "}'''\n",
    "info = json.loads(data) #when loaded becoms a pathon dictionary\n",
    "print('Name:', info[\"name\"])\n",
    "print('Hide:', info[\"email\"][\"hide\"])"
   ]
  },
  {
   "cell_type": "code",
   "execution_count": 8,
   "id": "ae65ddfc-d85e-4d3c-9cbd-84aa302db17b",
   "metadata": {},
   "outputs": [
    {
     "name": "stdout",
     "output_type": "stream",
     "text": [
      "User count: 122\n",
      "Name Chuck\n",
      "Id 001\n",
      "Attribute 2\n",
      "Name Brent\n",
      "Id 009\n",
      "Attribute 7\n"
     ]
    }
   ],
   "source": [
    "#json is simpler\n",
    "data = '''\n",
    "[\n",
    "  { \"id\" : \"001\",\n",
    "    \"x\" : \"2\",\n",
    "    \"name\" : \"Chuck\"\n",
    "  } ,\n",
    "  { \"id\" : \"009\",\n",
    "    \"x\" : \"7\",\n",
    "    \"name\" : \"Brent\"\n",
    "  }\n",
    "]'''\n",
    "\n",
    "info = json.loads(data)\n",
    "print('User count:', len(data))\n",
    "for item in info:\n",
    "    print('Name', item['name'])\n",
    "    print('Id', item['id'])\n",
    "    print('Attribute',item['x'])"
   ]
  },
  {
   "cell_type": "markdown",
   "id": "c6d38875-2487-4306-98e4-83f7b6361cec",
   "metadata": {},
   "source": [
    "# web services"
   ]
  },
  {
   "cell_type": "code",
   "execution_count": null,
   "id": "a2b02fc8-e95e-4377-9e57-3bb720aa5a7a",
   "metadata": {},
   "outputs": [],
   "source": [
    "# API is a contract of communicating with web applications\n",
    "# google map has an API you can use for your web application that will convert str inputs into specific geo data aka geo location\n"
   ]
  }
 ],
 "metadata": {
  "kernelspec": {
   "display_name": "Python 3 (ipykernel)",
   "language": "python",
   "name": "python3"
  },
  "language_info": {
   "codemirror_mode": {
    "name": "ipython",
    "version": 3
   },
   "file_extension": ".py",
   "mimetype": "text/x-python",
   "name": "python",
   "nbconvert_exporter": "python",
   "pygments_lexer": "ipython3",
   "version": "3.11.5"
  }
 },
 "nbformat": 4,
 "nbformat_minor": 5
}
