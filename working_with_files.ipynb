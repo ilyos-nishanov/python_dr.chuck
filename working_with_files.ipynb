{
 "cells": [
  {
   "cell_type": "code",
   "execution_count": 23,
   "id": "e8a121d5-cc66-4ce8-9b7d-0bfc1b5a8b54",
   "metadata": {},
   "outputs": [
    {
     "name": "stdout",
     "output_type": "stream",
     "text": [
      "hello world\n",
      "\n",
      "second text \n"
     ]
    }
   ],
   "source": [
    "fhandle = open('text.txt')\n",
    "for line in fhandle:\n",
    "    print(line)\n"
   ]
  },
  {
   "cell_type": "code",
   "execution_count": 24,
   "id": "e4529ff5-2af6-4ad8-a275-ea4a29f16b61",
   "metadata": {},
   "outputs": [
    {
     "name": "stdout",
     "output_type": "stream",
     "text": [
      "2\n"
     ]
    }
   ],
   "source": [
    "fhandle = open('text.txt') # file handle object created with open(), i.e. fhandle is used only onece\n",
    "count = 0\n",
    "for line in fhandle:\n",
    "    count += 1\n",
    "    \n",
    "print(count)"
   ]
  },
  {
   "cell_type": "code",
   "execution_count": 31,
   "id": "21ba94a6-e055-4658-8176-1f74516e5d5e",
   "metadata": {},
   "outputs": [
    {
     "name": "stdout",
     "output_type": "stream",
     "text": [
      "hello worl\n",
      "10\n"
     ]
    }
   ],
   "source": [
    "fhandle = open('text.txt') # file handle object created with open(), i.e. fhandle is used only onece\n",
    "inp = fhandle.read(10) #number of characters to be read\n",
    "print(inp)\n",
    "print(len(inp))"
   ]
  },
  {
   "cell_type": "code",
   "execution_count": 35,
   "id": "5a9087c1-5131-4d21-b2ea-d03245d2586e",
   "metadata": {},
   "outputs": [
    {
     "name": "stdout",
     "output_type": "stream",
     "text": [
      "hello world\n",
      "\n"
     ]
    }
   ],
   "source": [
    "fhandle = open('text.txt') # file handle object created with open(), i.e. fhandle is used only onece\n",
    "for line in fhandle:\n",
    "    if line.startswith('hello'):\n",
    "        print(line)"
   ]
  },
  {
   "cell_type": "code",
   "execution_count": 50,
   "id": "b83b17db-5c1c-44c4-ab7b-8205ff22555c",
   "metadata": {},
   "outputs": [
    {
     "name": "stdin",
     "output_type": "stream",
     "text": [
      "Enter file name:  mbox-short.txt\n"
     ]
    },
    {
     "name": "stdout",
     "output_type": "stream",
     "text": [
      "Average spam confidence: 0.7507185185185187\n"
     ]
    }
   ],
   "source": [
    "# Use the file name mbox-short.txt as the file name\n",
    "fname = input(\"Enter file name: \")\n",
    "fh = open(fname)\n",
    "sum_of = 0\n",
    "len_of = 0\n",
    "for line in fh:\n",
    "    if not line.startswith(\"X-DSPAM-Confidence:\"):\n",
    "        continue\n",
    "    # print(line)\n",
    "    num = line[-7:].rstrip()\n",
    "    num = float(num)\n",
    "    # print(num)\n",
    "    sum_of +=num\n",
    "    len_of += 1\n",
    "print(f\"Average spam confidence: {sum_of/len_of}\")\n"
   ]
  },
  {
   "cell_type": "code",
   "execution_count": null,
   "id": "dc893ca4-2bbc-4164-9e4e-e0b7664c7f83",
   "metadata": {},
   "outputs": [],
   "source": []
  }
 ],
 "metadata": {
  "kernelspec": {
   "display_name": "Python 3 (ipykernel)",
   "language": "python",
   "name": "python3"
  },
  "language_info": {
   "codemirror_mode": {
    "name": "ipython",
    "version": 3
   },
   "file_extension": ".py",
   "mimetype": "text/x-python",
   "name": "python",
   "nbconvert_exporter": "python",
   "pygments_lexer": "ipython3",
   "version": "3.11.5"
  }
 },
 "nbformat": 4,
 "nbformat_minor": 5
}
