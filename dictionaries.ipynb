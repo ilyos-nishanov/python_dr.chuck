{
 "cells": [
  {
   "cell_type": "code",
   "execution_count": 72,
   "id": "a1943221-becc-4723-ac10-5e87505bba28",
   "metadata": {},
   "outputs": [
    {
     "name": "stdout",
     "output_type": "stream",
     "text": [
      "<class 'list'>\n",
      "['stephen.marquard@uct.ac.za', 'louis@media.berkeley.edu', 'zqian@umich.edu', 'rjlowe@iupui.edu', 'zqian@umich.edu', 'rjlowe@iupui.edu', 'cwen@iupui.edu', 'cwen@iupui.edu', 'gsilver@umich.edu', 'gsilver@umich.edu', 'zqian@umich.edu', 'gsilver@umich.edu', 'wagnermr@iupui.edu', 'zqian@umich.edu', 'antranig@caret.cam.ac.uk', 'gopal.ramasammycook@gmail.com', 'david.horwitz@uct.ac.za', 'david.horwitz@uct.ac.za', 'david.horwitz@uct.ac.za', 'david.horwitz@uct.ac.za', 'stephen.marquard@uct.ac.za', 'louis@media.berkeley.edu', 'louis@media.berkeley.edu', 'ray@media.berkeley.edu', 'cwen@iupui.edu', 'cwen@iupui.edu', 'cwen@iupui.edu']\n"
     ]
    }
   ],
   "source": [
    "fhandle = open('mbox-short.txt')\n",
    "emails = []\n",
    "for line in fhandle:\n",
    "    if line.startswith('From:'):\n",
    "        continue\n",
    "    elif line.startswith('From'):\n",
    "        list1 = line.split()\n",
    "        # print(list1)\n",
    "        for word in list1:\n",
    "            if '@' in word:\n",
    "                emails.append(word)\n",
    "print(type(emails))\n",
    "print(emails)"
   ]
  },
  {
   "cell_type": "code",
   "execution_count": 81,
   "id": "7ddd5175-1121-4731-b3fa-a16af48c4d88",
   "metadata": {},
   "outputs": [
    {
     "name": "stdout",
     "output_type": "stream",
     "text": [
      "{'stephen.marquard@uct.ac.za': 2, 'louis@media.berkeley.edu': 3, 'zqian@umich.edu': 4, 'rjlowe@iupui.edu': 2, 'cwen@iupui.edu': 5, 'gsilver@umich.edu': 3, 'wagnermr@iupui.edu': 1, 'antranig@caret.cam.ac.uk': 1, 'gopal.ramasammycook@gmail.com': 1, 'david.horwitz@uct.ac.za': 4, 'ray@media.berkeley.edu': 1}\n",
      "2\n"
     ]
    }
   ],
   "source": [
    "counts1 = {}\n",
    "for email in emails:\n",
    "    if email not in counts1:\n",
    "        counts1[email]=1\n",
    "    else:\n",
    "        counts1[email]+=1\n",
    "print(counts1)\n",
    "print(counts1['stephen.marquard@uct.ac.za'])"
   ]
  },
  {
   "cell_type": "code",
   "execution_count": 74,
   "id": "6930c35e-178f-48a7-8bf2-4461818a17de",
   "metadata": {},
   "outputs": [
    {
     "name": "stdout",
     "output_type": "stream",
     "text": [
      "{'stephen.marquard@uct.ac.za': 2, 'louis@media.berkeley.edu': 3, 'zqian@umich.edu': 4, 'rjlowe@iupui.edu': 2, 'cwen@iupui.edu': 5, 'gsilver@umich.edu': 3, 'wagnermr@iupui.edu': 1, 'antranig@caret.cam.ac.uk': 1, 'gopal.ramasammycook@gmail.com': 1, 'david.horwitz@uct.ac.za': 4, 'ray@media.berkeley.edu': 1}\n"
     ]
    }
   ],
   "source": [
    "counts2 = {}\n",
    "for email in emails:\n",
    "    counts2[email]=counts2.get(email,0)+1\n",
    "print(counts2)"
   ]
  },
  {
   "cell_type": "code",
   "execution_count": 75,
   "id": "093a66d5-2266-4057-832b-2150afc2c52d",
   "metadata": {},
   "outputs": [
    {
     "name": "stdout",
     "output_type": "stream",
     "text": [
      "stephen.marquard@uct.ac.za 2\n",
      "louis@media.berkeley.edu 3\n",
      "zqian@umich.edu 4\n",
      "rjlowe@iupui.edu 2\n",
      "cwen@iupui.edu 5\n",
      "gsilver@umich.edu 3\n",
      "wagnermr@iupui.edu 1\n",
      "antranig@caret.cam.ac.uk 1\n",
      "gopal.ramasammycook@gmail.com 1\n",
      "david.horwitz@uct.ac.za 4\n",
      "ray@media.berkeley.edu 1\n"
     ]
    }
   ],
   "source": [
    "for key in counts2:\n",
    "    print(key, counts2[key])"
   ]
  },
  {
   "cell_type": "code",
   "execution_count": 76,
   "id": "1be70848-047f-436f-9ae3-f99865fe4c97",
   "metadata": {},
   "outputs": [
    {
     "data": {
      "text/plain": [
       "dict_keys(['stephen.marquard@uct.ac.za', 'louis@media.berkeley.edu', 'zqian@umich.edu', 'rjlowe@iupui.edu', 'cwen@iupui.edu', 'gsilver@umich.edu', 'wagnermr@iupui.edu', 'antranig@caret.cam.ac.uk', 'gopal.ramasammycook@gmail.com', 'david.horwitz@uct.ac.za', 'ray@media.berkeley.edu'])"
      ]
     },
     "execution_count": 76,
     "metadata": {},
     "output_type": "execute_result"
    }
   ],
   "source": [
    "counts2.keys()"
   ]
  },
  {
   "cell_type": "code",
   "execution_count": 77,
   "id": "e0185a79-f11d-4e15-a3e7-c2ff303c5ff0",
   "metadata": {},
   "outputs": [
    {
     "data": {
      "text/plain": [
       "dict_values([2, 3, 4, 2, 5, 3, 1, 1, 1, 4, 1])"
      ]
     },
     "execution_count": 77,
     "metadata": {},
     "output_type": "execute_result"
    }
   ],
   "source": [
    "counts2.values()"
   ]
  },
  {
   "cell_type": "code",
   "execution_count": 78,
   "id": "179c758a-ce00-4d4b-a3f2-58a7b4cd991f",
   "metadata": {},
   "outputs": [
    {
     "data": {
      "text/plain": [
       "dict_items([('stephen.marquard@uct.ac.za', 2), ('louis@media.berkeley.edu', 3), ('zqian@umich.edu', 4), ('rjlowe@iupui.edu', 2), ('cwen@iupui.edu', 5), ('gsilver@umich.edu', 3), ('wagnermr@iupui.edu', 1), ('antranig@caret.cam.ac.uk', 1), ('gopal.ramasammycook@gmail.com', 1), ('david.horwitz@uct.ac.za', 4), ('ray@media.berkeley.edu', 1)])"
      ]
     },
     "execution_count": 78,
     "metadata": {},
     "output_type": "execute_result"
    }
   ],
   "source": [
    "counts2.items()"
   ]
  },
  {
   "cell_type": "code",
   "execution_count": 79,
   "id": "e3fbea52-73a1-4d3c-9043-8bbb36b3c6d4",
   "metadata": {},
   "outputs": [
    {
     "name": "stdout",
     "output_type": "stream",
     "text": [
      "stephen.marquard@uct.ac.za 24\n",
      "louis@media.berkeley.edu 36\n",
      "zqian@umich.edu 48\n",
      "rjlowe@iupui.edu 24\n",
      "cwen@iupui.edu 60\n",
      "gsilver@umich.edu 36\n",
      "wagnermr@iupui.edu 12\n",
      "antranig@caret.cam.ac.uk 12\n",
      "gopal.ramasammycook@gmail.com 12\n",
      "david.horwitz@uct.ac.za 48\n",
      "ray@media.berkeley.edu 12\n"
     ]
    }
   ],
   "source": [
    "for key, value in counts.items():\n",
    "    print(key,value)"
   ]
  },
  {
   "cell_type": "code",
   "execution_count": 80,
   "id": "28f3e761-6cb5-48dc-8f1b-046f487e95e9",
   "metadata": {},
   "outputs": [
    {
     "name": "stdout",
     "output_type": "stream",
     "text": [
      "cwen@iupui.edu 5\n"
     ]
    }
   ],
   "source": [
    "bigcount = None\n",
    "bigemail = None\n",
    "for email, count in counts2.items():\n",
    "    if bigcount is None or count > bigcount:\n",
    "        bigcount = count\n",
    "        bigemail = email\n",
    "\n",
    "print(bigemail, bigcount)"
   ]
  }
 ],
 "metadata": {
  "kernelspec": {
   "display_name": "Python 3 (ipykernel)",
   "language": "python",
   "name": "python3"
  },
  "language_info": {
   "codemirror_mode": {
    "name": "ipython",
    "version": 3
   },
   "file_extension": ".py",
   "mimetype": "text/x-python",
   "name": "python",
   "nbconvert_exporter": "python",
   "pygments_lexer": "ipython3",
   "version": "3.11.5"
  }
 },
 "nbformat": 4,
 "nbformat_minor": 5
}
