{
 "cells": [
  {
   "cell_type": "code",
   "execution_count": 1,
   "id": "0624b8b8-c332-4362-9147-bce112094acf",
   "metadata": {},
   "outputs": [],
   "source": [
    "t0 = 1,9,2"
   ]
  },
  {
   "cell_type": "code",
   "execution_count": 2,
   "id": "94878f4b-1522-4ec6-8366-0e88146c994e",
   "metadata": {},
   "outputs": [
    {
     "data": {
      "text/plain": [
       "tuple"
      ]
     },
     "execution_count": 2,
     "metadata": {},
     "output_type": "execute_result"
    }
   ],
   "source": [
    "type(t0)"
   ]
  },
  {
   "cell_type": "code",
   "execution_count": 3,
   "id": "82a6b877-f836-4eda-a75e-aabd5ee1a5a5",
   "metadata": {},
   "outputs": [],
   "source": [
    "# immutable\n",
    "# can't change\n",
    "# can't assign\n",
    "# can't append\n",
    "# can't sort ?"
   ]
  },
  {
   "cell_type": "code",
   "execution_count": 4,
   "id": "b062cc23-d281-4587-ad29-110688c111b3",
   "metadata": {},
   "outputs": [],
   "source": [
    "# but efficient for one-off tasks, use less memory, faster"
   ]
  },
  {
   "cell_type": "code",
   "execution_count": 5,
   "id": "47f3e72c-08f2-4c42-856f-b2ff9a2ad7f7",
   "metadata": {},
   "outputs": [],
   "source": [
    "# basically limited lists"
   ]
  },
  {
   "cell_type": "code",
   "execution_count": 8,
   "id": "7b9a2e8d-8f34-42dc-ad09-15626c915789",
   "metadata": {},
   "outputs": [],
   "source": [
    "l0 = [1,2,3]\n",
    "t1 = tuple(l0)"
   ]
  },
  {
   "cell_type": "code",
   "execution_count": 9,
   "id": "8661076d-9f2a-464f-881c-edfdaa45e824",
   "metadata": {},
   "outputs": [],
   "source": [
    "x,y = 4, 'fred'"
   ]
  },
  {
   "cell_type": "code",
   "execution_count": 12,
   "id": "5492923e-8494-4441-bddd-6badbbb53a70",
   "metadata": {},
   "outputs": [
    {
     "name": "stdout",
     "output_type": "stream",
     "text": [
      "a 1\n",
      "b 2\n",
      "c 3\n"
     ]
    }
   ],
   "source": [
    "d0 = {'a':1, 'b':2,'c':3}\n",
    "for k,v in d0.items():\n",
    "    print(k,v)"
   ]
  },
  {
   "cell_type": "code",
   "execution_count": 13,
   "id": "a32bfdd1-a006-47f0-9bcb-5f5830c48d4d",
   "metadata": {},
   "outputs": [
    {
     "data": {
      "text/plain": [
       "True"
      ]
     },
     "execution_count": 13,
     "metadata": {},
     "output_type": "execute_result"
    }
   ],
   "source": [
    "#tuples are comparable\n",
    "(0,1,300)<(0,2,1)\n",
    "#compares ONLY until a definitive answer is reached and no further"
   ]
  },
  {
   "cell_type": "code",
   "execution_count": 23,
   "id": "b78cd40c-54b5-4b89-9bb1-05ca6282f301",
   "metadata": {},
   "outputs": [
    {
     "data": {
      "text/plain": [
       "[('a', 10), ('b', 1), ('c', 22)]"
      ]
     },
     "execution_count": 23,
     "metadata": {},
     "output_type": "execute_result"
    }
   ],
   "source": [
    "d1 = {'a':10, 'c':22,'b':1}\n",
    "sorted(d1.items())"
   ]
  },
  {
   "cell_type": "code",
   "execution_count": 20,
   "id": "f23c2110-c7f6-42c2-bd61-16a953cbf5a4",
   "metadata": {},
   "outputs": [],
   "source": [
    "# dictionaries are sorted ONLY BY KEYS"
   ]
  },
  {
   "cell_type": "code",
   "execution_count": 28,
   "id": "a094bcce-00ec-4d24-bc24-00fb0d8fb97f",
   "metadata": {},
   "outputs": [
    {
     "name": "stdout",
     "output_type": "stream",
     "text": [
      "[(10, 'a'), (22, 'c'), (1, 'b')]\n",
      "[(22, 'c'), (10, 'a'), (1, 'b')]\n"
     ]
    }
   ],
   "source": [
    "#you can change this by appending reverse of key-value pairs as tuples to a temp list\n",
    "temp = []\n",
    "for k,v in d1.items():\n",
    "    temp.append((v,k))\n",
    "print(temp)\n",
    "temp = sorted(temp, reverse=True)\n",
    "print(temp)"
   ]
  },
  {
   "cell_type": "code",
   "execution_count": 49,
   "id": "fa1858b4-5985-47ee-8c10-2d4bae2069af",
   "metadata": {},
   "outputs": [
    {
     "name": "stdout",
     "output_type": "stream",
     "text": [
      "the 3\n",
      "is 3\n",
      "and 3\n",
      "sun 2\n",
      "yonder 1\n",
      "with 1\n",
      "window 1\n",
      "what 1\n",
      "through 1\n",
      "soft 1\n"
     ]
    }
   ],
   "source": [
    "#lets count the words in a file and print top 10\n",
    "counts0 = {}\n",
    "\n",
    "fhandle = open('romeo.txt')\n",
    "for line in fhandle:\n",
    "    # print(line)\n",
    "    words = line.split()\n",
    "    for word in words:\n",
    "        # print(word)\n",
    "        counts0[word]=counts0.get(word,0)+1\n",
    "# print(counts0)\n",
    "\n",
    "tmp = []\n",
    "for k,v in counts0.items():\n",
    "    # print(k,v)\n",
    "    tmp.append((v,k))\n",
    "\n",
    "tmp = sorted(tmp, reverse=True)\n",
    "# print(tmp)\n",
    "for val, key in tmp[:10]:\n",
    "    print(key, val)"
   ]
  },
  {
   "cell_type": "code",
   "execution_count": 54,
   "id": "07ff2cc9-d2d5-4808-a6f7-9b568814d46a",
   "metadata": {},
   "outputs": [
    {
     "name": "stdout",
     "output_type": "stream",
     "text": [
      "the 3\n",
      "is 3\n",
      "and 3\n",
      "sun 2\n",
      "yonder 1\n",
      "with 1\n",
      "window 1\n",
      "what 1\n",
      "through 1\n",
      "soft 1\n"
     ]
    }
   ],
   "source": [
    "# it can be made more succint using comprehension\n",
    "# the above method is the procedural, classical algorithms-and-data-sturctures approach that should be learned in the first place\n",
    "\n",
    "tmp=sorted([(v,k) for k,v in counts0.items()], reverse=True)\n",
    "\n",
    "for val, key in tmp[:10]:\n",
    "    print(key, val)"
   ]
  },
  {
   "cell_type": "code",
   "execution_count": 55,
   "id": "389baf6c-56f6-4e7b-a5bc-a57df9e9b5a9",
   "metadata": {},
   "outputs": [
    {
     "name": "stdin",
     "output_type": "stream",
     "text": [
      "Enter file: \n"
     ]
    },
    {
     "name": "stdout",
     "output_type": "stream",
     "text": [
      "04 3\n",
      "06 1\n",
      "07 1\n",
      "09 2\n",
      "10 3\n",
      "11 6\n",
      "14 1\n",
      "15 2\n",
      "16 4\n",
      "17 2\n",
      "18 1\n",
      "19 1\n"
     ]
    }
   ],
   "source": [
    "# grader task\n",
    "name = input(\"Enter file:\")\n",
    "if len(name) < 1:\n",
    "    name = \"mbox-short.txt\"\n",
    "handle = open(name)\n",
    "time_stamps =[]\n",
    "hours = []\n",
    "counts = {}\n",
    "for line in handle:\n",
    "    if line.startswith('From:'):\n",
    "        continue\n",
    "    elif line.startswith('From'):\n",
    "        string = line.split()\n",
    "        for i in string:\n",
    "            if ':' in i:\n",
    "                time_stamps.append(i)\n",
    "       \n",
    "#print(time_stamps)\n",
    "for hour in time_stamps:\n",
    "    hours.append(hour[:2])\n",
    "\n",
    "for hour in hours:\n",
    "    counts[hour]=counts.get(hour,0)+1\n",
    "\n",
    "tmp=sorted([(k,v) for k,v in counts.items()])\n",
    "\n",
    "for key, val in tmp:\n",
    "    print(key,val)\n"
   ]
  },
  {
   "cell_type": "code",
   "execution_count": 56,
   "id": "ece2f0dd-8b6c-4f4d-8986-b19cec413440",
   "metadata": {},
   "outputs": [
    {
     "data": {
      "text/plain": [
       "4"
      ]
     },
     "execution_count": 56,
     "metadata": {},
     "output_type": "execute_result"
    }
   ],
   "source": [
    "tuple = (1,2,4,5)\n",
    "tuple[2]"
   ]
  },
  {
   "cell_type": "code",
   "execution_count": null,
   "id": "a9ea65dd-cd56-4179-a0ea-f6d51bc76bbf",
   "metadata": {},
   "outputs": [],
   "source": []
  }
 ],
 "metadata": {
  "kernelspec": {
   "display_name": "Python 3 (ipykernel)",
   "language": "python",
   "name": "python3"
  },
  "language_info": {
   "codemirror_mode": {
    "name": "ipython",
    "version": 3
   },
   "file_extension": ".py",
   "mimetype": "text/x-python",
   "name": "python",
   "nbconvert_exporter": "python",
   "pygments_lexer": "ipython3",
   "version": "3.11.5"
  }
 },
 "nbformat": 4,
 "nbformat_minor": 5
}
